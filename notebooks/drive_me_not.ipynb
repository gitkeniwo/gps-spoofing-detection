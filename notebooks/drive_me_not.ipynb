{
 "cells": [
  {
   "cell_type": "code",
   "execution_count": 109,
   "metadata": {},
   "outputs": [],
   "source": [
    "import pandas as pd\n",
    "import numpy as np\n",
    "import math\n",
    "\n",
    "\n",
    "import sys\n",
    "import os\n",
    "# /Users/liguangyu/Documents/GitHub/gps-spoofing-detection/data/drive-me-not/trace4.csv\n",
    "\n"
   ]
  },
  {
   "cell_type": "code",
   "execution_count": 110,
   "metadata": {},
   "outputs": [
    {
     "name": "stdout",
     "output_type": "stream",
     "text": [
      "/Users/liguangyu/Documents/GitHub/gps-spoofing-detection\n",
      "['/Users/liguangyu/Documents/GitHub/gps-spoofing-detection/notebooks', '/Users/liguangyu/miniforge3/envs/tf26/lib/python310.zip', '/Users/liguangyu/miniforge3/envs/tf26/lib/python3.10', '/Users/liguangyu/miniforge3/envs/tf26/lib/python3.10/lib-dynload', '', '/Users/liguangyu/miniforge3/envs/tf26/lib/python3.10/site-packages', '/Users/liguangyu/miniforge3/envs/tf26/lib/python3.10/site-packages/transformers-4.39.0.dev0-py3.10.egg', '/Users/liguangyu/miniforge3/envs/tf26/lib/python3.10/site-packages/safetensors-0.4.2-py3.10-macosx-11.1-arm64.egg', '/Users/liguangyu/miniforge3/envs/tf26/lib/python3.10/site-packages/tokenizers-0.15.2-py3.10-macosx-11.1-arm64.egg', '/Users/liguangyu/miniforge3/envs/tf26/lib/python3.10/site-packages/huggingface_hub-0.21.4-py3.10.egg', '/Users/liguangyu/miniforge3/envs/tf26/lib/python3.10/site-packages/fsspec-2024.2.0-py3.10.egg', '/Users/liguangyu/Documents/GitHub/gps-spoofing-detection', '/Users/liguangyu/Documents/GitHub/gps-spoofing-detection', '/Users/liguangyu/Documents/GitHub/gps-spoofing-detection', '/Users/liguangyu/Documents/GitHub/gps-spoofing-detection', '/Users/liguangyu/Documents/GitHub/gps-spoofing-detection', '/Users/liguangyu/Documents/GitHub/gps-spoofing-detection', '/Users/liguangyu/Documents/GitHub/gps-spoofing-detection', '/Users/liguangyu/Documents/GitHub/gps-spoofing-detection', '/Users/liguangyu/Documents/GitHub/gps-spoofing-detection', '/Users/liguangyu/Documents/GitHub/gps-spoofing-detection']\n"
     ]
    }
   ],
   "source": [
    "ROOT_DIR = os.path.abspath(os.path.join(os.getcwd(), os.pardir))\n",
    "print(ROOT_DIR)\n",
    "\n",
    "# Add the project root directory to the Python path\n",
    "sys.path.append(ROOT_DIR)\n",
    "print(sys.path)\n",
    "from utils.haversine import haversine\n",
    "from utils.generate_spoof import average_speed,generate_spoof_trace\n",
    "from utils.estimate_path_err import estimate_path_err"
   ]
  },
  {
   "cell_type": "markdown",
   "metadata": {},
   "source": [
    "## add distance columns to every row "
   ]
  },
  {
   "cell_type": "code",
   "execution_count": 111,
   "metadata": {},
   "outputs": [],
   "source": [
    "\n",
    "data= pd.read_csv(\"../data/drive-me-not/trace4.csv\")\n",
    "cell_data=pd.read_csv(\"../data/drive-me-not/CellsDatabase.csv\")\n",
    "\n",
    "\n",
    "cell_data_lalon=cell_data\n",
    "cell_data_lalon=cell_data_lalon.rename(columns={'cell':'CID','area':'LAC','net':'MNC'})\n",
    "data_distance=pd.merge(data,cell_data_lalon,on=['CID','LAC','MNC'],how='left')\n",
    "data_distance['distance']=data_distance.apply(lambda row: haversine([row['GPS_lat'],row['lat']],[row['GPS_long'],row['lon']]),axis=1)\n",
    "data_distance.to_csv('../data/drive-me-not/processed/trace4_cell.csv')\n"
   ]
  },
  {
   "cell_type": "markdown",
   "metadata": {},
   "source": [
    "## drop repeated location with different time"
   ]
  },
  {
   "cell_type": "code",
   "execution_count": 112,
   "metadata": {},
   "outputs": [],
   "source": [
    "data_unique = data.drop_duplicates(subset=[\"GPS_lat\", \"GPS_long\",\"CID\"])\n",
    "data_unique = data_unique.reset_index(drop=True)\n",
    "data_unique[\"spoofed\"] = 0\n",
    "data_unique.to_csv(\"../data/drive-me-not/processed/trace4_unique.csv\")\n"
   ]
  },
  {
   "cell_type": "markdown",
   "metadata": {},
   "source": [
    "## generate spoofed trace from middle of dataset"
   ]
  },
  {
   "cell_type": "code",
   "execution_count": 113,
   "metadata": {},
   "outputs": [
    {
     "name": "stdout",
     "output_type": "stream",
     "text": [
      "233\n"
     ]
    }
   ],
   "source": [
    "data_spoofed = data_unique.drop_duplicates(subset=[\"GPS_lat\", \"GPS_long\"])\n",
    "data_spoofed = data_spoofed.reset_index(drop=True)\n",
    "start = int(0.5 * data_spoofed.shape[0])\n",
    "print(start)\n",
    "total = data_spoofed.iloc[-1][\"Time\"] - data_spoofed.iloc[0][\"Time\"]\n",
    "remain_time = data_spoofed.iloc[-1][\"Time\"] - data_spoofed.iloc[start][\"Time\"]\n",
    "speed = average_speed(data_spoofed, start)\n",
    "# random pick a direction\n",
    "angle = np.random.uniform(0, 2 * np.pi)\n",
    "data_spoofed = generate_spoof_trace(data_spoofed, speed, angle, start)\n",
    "data_spoofed.to_csv(\"../data/drive-me-not/processed/trace4_spoofed.csv\")"
   ]
  },
  {
   "cell_type": "code",
   "execution_count": 114,
   "metadata": {},
   "outputs": [
    {
     "data": {
      "text/plain": [
       "Index(['GPS_lat', 'GPS_long', 'Network_lat', 'Network_long', 'Time',\n",
       "       'Anchor_Number', 'Type', 'Registered', 'CID', 'LAC', 'MCC', 'MNC',\n",
       "       'dBm', 'level', 'spoofed'],\n",
       "      dtype='object')"
      ]
     },
     "execution_count": 114,
     "metadata": {},
     "output_type": "execute_result"
    }
   ],
   "source": [
    "data_unique.columns"
   ]
  },
  {
   "cell_type": "markdown",
   "metadata": {},
   "source": [
    "## merge spoofed data with the original unique data"
   ]
  },
  {
   "cell_type": "code",
   "execution_count": 115,
   "metadata": {},
   "outputs": [],
   "source": [
    "# origin_data = pd.read_csv(\n",
    "#     \"/Users/liguangyu/Downloads/gps-spoofing-detection-cellular-master/trace4_unique.csv\"\n",
    "# )\n",
    "# spoofed_data = pd.read_csv(\n",
    "#     \"/Users/liguangyu/Downloads/gps-spoofing-detection-cellular-master/trace4_spoofed.csv\"\n",
    "\n",
    "# )\n",
    "import copy\n",
    "merged=pd.merge(data_unique,data_spoofed,on=[\"Time\"],how='left')\n",
    "merged.to_csv('merged.csv')\n",
    "# origin_data[[\"GPS_lat\", \"GPS_long\"]]=merged[[\"GPS_lat\", \"GPS_long\"]].combine_first(origin_data[[\"GPS_lat\", \"GPS_long\"]])\n",
    "origin_data=copy.deepcopy(data_unique)\n",
    "origin_data[[\"GPS_lat\", \"GPS_long\"]]=merged[[\"GPS_lat_y\", \"GPS_long_y\"]]\n",
    "origin_data['spoofed']=merged['spoofed_y']\n",
    "origin_data=origin_data.dropna()\n",
    "origin_data = origin_data.reset_index(drop=True)\n",
    "mdata=pd.merge(origin_data,cell_data_lalon,on=['CID','LAC','MNC'],how='left')\n",
    "origin_data['lat']=mdata['lat']\n",
    "origin_data['lon']=mdata['lon']\n",
    "origin_data=origin_data.dropna()\n",
    "# origin_data.to_csv('../data/drive-me-not/processed/spoofed_trace4_unique_cell.csv')\n",
    "# origin_data.to_csv('full_spoofed_trace4.csv')"
   ]
  },
  {
   "cell_type": "code",
   "execution_count": 116,
   "metadata": {},
   "outputs": [
    {
     "data": {
      "text/plain": [
       "Index(['GPS_lat_x', 'GPS_long_x', 'Network_lat_x', 'Network_long_x', 'Time',\n",
       "       'Anchor_Number_x', 'Type_x', 'Registered_x', 'CID_x', 'LAC_x', 'MCC_x',\n",
       "       'MNC_x', 'dBm_x', 'level_x', 'spoofed_x', 'GPS_lat_y', 'GPS_long_y',\n",
       "       'Network_lat_y', 'Network_long_y', 'Anchor_Number_y', 'Type_y',\n",
       "       'Registered_y', 'CID_y', 'LAC_y', 'MCC_y', 'MNC_y', 'dBm_y', 'level_y',\n",
       "       'spoofed_y'],\n",
       "      dtype='object')"
      ]
     },
     "execution_count": 116,
     "metadata": {},
     "output_type": "execute_result"
    }
   ],
   "source": [
    "merged.columns"
   ]
  },
  {
   "cell_type": "markdown",
   "metadata": {},
   "source": [
    "## test the max difference"
   ]
  },
  {
   "cell_type": "code",
   "execution_count": 117,
   "metadata": {},
   "outputs": [
    {
     "name": "stdout",
     "output_type": "stream",
     "text": [
      "16.85306518760324\n",
      "5822\n"
     ]
    }
   ],
   "source": [
    "origin_data['e_lat']=0.0\n",
    "origin_data['e_lon']=0.0\n",
    "origin_data['difference']=0.0\n",
    "origin_data = estimate_path_err(origin_data, expF=20, qthr=0.9)\n",
    "origin_data.to_csv('../data/drive-me-not/processed/estimated_spoofed_trace4.csv')\n",
    "print(np.max(origin_data['difference'].values))\n",
    "print(np.argmax(origin_data['difference'].values))\n",
    "origin_data.to_csv('../data/drive-me-not/processed/spoofed_trace4_unique_cell.csv')\n",
    "# data_spoofed = estimate_path_err(data_spoofed, expF=20, qthr=0.9)\n",
    "# print(np.argmax(data_spoofed['difference'].values))"
   ]
  },
  {
   "cell_type": "code",
   "execution_count": 118,
   "metadata": {},
   "outputs": [
    {
     "name": "stdout",
     "output_type": "stream",
     "text": [
      "4.058164568012441\n",
      "0.534914438792021\n"
     ]
    }
   ],
   "source": [
    "mdata=pd.merge(data_unique,cell_data_lalon,on=['CID','LAC','MNC'],how='left')\n",
    "data_unique['lat']=mdata['lat']\n",
    "data_unique['lon']=mdata['lon']\n",
    "data_unique=data_unique.dropna()\n",
    "data_unique['e_lat']=0.0\n",
    "data_unique['e_lon']=0.0\n",
    "data_unique['difference']=0.0\n",
    "data_unique = estimate_path_err(data_unique, expF=20, qthr=0.9)\n",
    "print(np.max(data_unique['difference'].values))\n",
    "threshold=np.max(data_unique['difference'].values)\n",
    "print(np.quantile(data_unique['difference'].values,0.9))"
   ]
  },
  {
   "cell_type": "code",
   "execution_count": 121,
   "metadata": {},
   "outputs": [
    {
     "name": "stdout",
     "output_type": "stream",
     "text": [
      "[[3908]\n",
      " [3909]\n",
      " [3910]\n",
      " ...\n",
      " [5861]\n",
      " [5862]\n",
      " [5863]]\n"
     ]
    }
   ],
   "source": [
    "diff=origin_data['difference'].values\n",
    "print(np.argwhere(diff>threshold))\n"
   ]
  },
  {
   "cell_type": "code",
   "execution_count": 120,
   "metadata": {},
   "outputs": [
    {
     "name": "stdout",
     "output_type": "stream",
     "text": [
      "3908    224001\n",
      "Name: Time, dtype: int64\n"
     ]
    }
   ],
   "source": [
    "detected_time=origin_data.iloc[np.argwhere(diff>threshold)[0]]['Time']\n",
    "start_time=origin_data[origin_data['spoofed']==1].iloc[0]['Time']\n",
    "print(detected_time-start_time)"
   ]
  },
  {
   "cell_type": "code",
   "execution_count": 315,
   "metadata": {},
   "outputs": [
    {
     "name": "stdout",
     "output_type": "stream",
     "text": [
      "{98: 30, 132: 15, 150: 3, 155: 26, 183: 5, 207: 1, 213: 1, 215: 1, 219: 14, 234: 2, 237: 2, 245: 16, 271: 16, 296: 3, 301: 6, 312: 5, 333: 1, 336: 10, 347: 39, 402: 1, 410: 13, 424: 5, 436: 2, 439: 4, 444: 3, 448: 2, 452: 1, 458: 5, 465: 1}\n",
      "{98: 30, 132: 15, 150: 3, 155: 26, 183: 5, 207: 1, 213: 1, 215: 1, 219: 14, 234: 232}\n"
     ]
    }
   ],
   "source": [
    "data_unique_pos=data_unique.drop_duplicates(subset=[\"GPS_lat\", \"GPS_long\"])\n",
    "data_unique_pos=data_unique_pos.reset_index(drop=True)\n",
    "threshold=np.quantile(data_unique_pos['difference'].values,0.50)\n",
    "def maxima_burst(data,th):\n",
    "    benigh_diff=data['difference'].values\n",
    "    diff_indexs=np.argwhere(benigh_diff>th)\n",
    "    # print(diff_indexs)\n",
    "    diff_indexs=np.squeeze(diff_indexs)\n",
    "    sorted_index=np.sort(diff_indexs)\n",
    "    # print(sorted_index)\n",
    "    burst={}\n",
    "    prev=sorted_index[0]\n",
    "    begin=sorted_index[0]\n",
    "    sequence_length=1\n",
    "    for i in range(1,sorted_index.shape[0]):\n",
    "        if sorted_index[i]!=prev+1:\n",
    "            # burst.append({begin:sequence_length})\n",
    "            burst[begin]=sequence_length\n",
    "            sequence_length=1\n",
    "            prev=sorted_index[i]\n",
    "            begin=prev\n",
    "        else:\n",
    "            sequence_length+=1\n",
    "            prev=sorted_index[i]\n",
    "    burst[begin]=sequence_length\n",
    "    return burst\n",
    "benigh_bursts=maxima_burst(data_unique_pos,threshold)\n",
    "print(benigh_bursts)\n",
    "# print(data_unique_pos.shape)\n",
    "data_spoofed_pos=origin_data.drop_duplicates(subset=[\"GPS_lat\", \"GPS_long\"])\n",
    "data_spoofed_pos=data_spoofed_pos.reset_index(drop=True)\n",
    "bursts=maxima_burst(data_spoofed_pos,threshold)\n",
    "print(bursts)"
   ]
  },
  {
   "cell_type": "code",
   "execution_count": 243,
   "metadata": {},
   "outputs": [],
   "source": [
    "def get_detected_time(data,bursts):\n",
    "    max_time=0\n",
    "    for key,value in bursts.items():\n",
    "        begin_time=data['Time'][key]\n",
    "       \n",
    "        end_time=data['Time'][key+value-1]\n",
    "        \n",
    "        time=end_time-begin_time\n",
    "       \n",
    "        if max_time<time:\n",
    "            max_time=time\n",
    "    return max_time\n",
    "def get_diff(data,time,threshold):\n",
    "    anomaly_start_index=data[data['spoofed']==1].index[0]\n",
    "    anomaly_start_time=data.iloc[anomaly_start_index]['Time']\n",
    "    diff=data[data['spoofed']==1]['difference'].values\n",
    "    \n",
    "    anomaly_detected_index=np.argwhere(diff>threshold)[0][0]\n",
    "    print(anomaly_detected_index)\n",
    "    start_time_point=data.iloc[anomaly_start_index+anomaly_detected_index]['Time']\n",
    "    duration_detected=0\n",
    "    diff_detected=0\n",
    "    for i in range(anomaly_detected_index,data.shape[0]):\n",
    "        current_time=data.iloc[i]['Time']\n",
    "        \n",
    "        if current_time-start_time_point<time:\n",
    "            continue\n",
    "        else:\n",
    "            print(current_time)\n",
    "            print(i)\n",
    "            duration_detected=current_time-anomaly_start_time\n",
    "            diff_detected=data.iloc[i]['difference']\n",
    "            break\n",
    "    return duration_detected,diff_detected\n",
    "\n"
   ]
  },
  {
   "cell_type": "code",
   "execution_count": null,
   "metadata": {},
   "outputs": [],
   "source": []
  },
  {
   "cell_type": "code",
   "execution_count": 316,
   "metadata": {},
   "outputs": [
    {
     "name": "stdout",
     "output_type": "stream",
     "text": [
      "247291\n",
      "0\n",
      "1561286398406\n",
      "302\n",
      "(250158, 5.160702280603408)\n"
     ]
    }
   ],
   "source": [
    "tt=get_detected_time(data_unique_pos,benigh_bursts)\n",
    "print(tt)\n",
    "print(get_diff(data_spoofed_pos,tt,threshold))"
   ]
  },
  {
   "cell_type": "code",
   "execution_count": 164,
   "metadata": {},
   "outputs": [
    {
     "name": "stdout",
     "output_type": "stream",
     "text": [
      "1561285796884\n"
     ]
    }
   ],
   "source": [
    "anomaly_start=data_spoofed_pos.iloc[3]['Time']\n",
    "print(anomaly_start)\n"
   ]
  },
  {
   "cell_type": "code",
   "execution_count": null,
   "metadata": {},
   "outputs": [],
   "source": [
    "# def run_quantile(num):\n",
    "#     data_unique_pos=data_unique.drop_duplicates(subset=[\"GPS_lat\", \"GPS_long\"])\n",
    "#     data_unique_pos=data_unique_pos.reset_index(drop=True)\n",
    "#     threshold=np.quantile(data_unique_pos['difference'].values,0.50)\n",
    "\n",
    "#     benigh_bursts=maxima_burst(data_unique_pos,threshold)\n",
    "#     print(benigh_bursts)\n",
    "#     # print(data_unique_pos.shape)\n",
    "#     data_spoofed_pos=origin_data.drop_duplicates(subset=[\"GPS_lat\", \"GPS_long\"])\n",
    "#     data_spoofed_pos=data_spoofed_pos.reset_index(drop=True)\n",
    "#     bursts=maxima_burst(data_spoofed_pos,threshold)\n",
    "#     print(bursts)\n",
    "#     tt=get_detected_time(data_unique_pos,benigh_bursts)\n",
    "#     print(tt)\n",
    "#     print(get_diff(data_spoofed_pos,tt,threshold))"
   ]
  },
  {
   "cell_type": "code",
   "execution_count": 335,
   "metadata": {},
   "outputs": [],
   "source": [
    "time_diff=[]\n",
    "slot=[0.04*i for i in range(1,25)]\n"
   ]
  },
  {
   "cell_type": "code",
   "execution_count": 336,
   "metadata": {},
   "outputs": [
    {
     "name": "stdout",
     "output_type": "stream",
     "text": [
      "{0: 3, 19: 51, 71: 364, 436: 7, 444: 22}\n",
      "1488260\n",
      "0\n",
      "1561287643318\n",
      "463\n",
      "(1495070, 16.85306518760324)\n",
      "{0: 1, 28: 39, 71: 18, 90: 2, 94: 240, 335: 100, 436: 7, 444: 22}\n",
      "758594\n",
      "0\n",
      "1561286911628\n",
      "370\n",
      "(763380, 12.35557396077961)\n",
      "{28: 28, 57: 9, 73: 15, 94: 94, 190: 11, 202: 105, 308: 11, 320: 6, 328: 2, 331: 3, 335: 69, 407: 28, 436: 7, 444: 22}\n",
      "516783\n",
      "0\n",
      "1561286668499\n",
      "341\n",
      "(520251, 7.8053841412819835)\n",
      "{28: 26, 57: 6, 73: 15, 94: 94, 190: 11, 202: 1, 204: 58, 263: 44, 308: 2, 311: 7, 320: 2, 324: 2, 328: 2, 332: 2, 335: 53, 389: 14, 408: 23, 434: 1, 436: 7, 444: 22}\n",
      "433931\n",
      "0\n",
      "1561286591419\n",
      "334\n",
      "(443171, 7.649937836726596)\n",
      "{28: 10, 39: 13, 57: 6, 73: 1, 75: 13, 96: 92, 190: 11, 204: 35, 243: 19, 264: 24, 291: 16, 308: 2, 311: 7, 320: 2, 324: 2, 328: 1, 332: 2, 335: 52, 389: 2, 392: 11, 409: 22, 434: 1, 436: 7, 444: 22}\n",
      "420436\n",
      "0\n",
      "1561286569188\n",
      "332\n",
      "(420940, 7.483104573857205)\n",
      "{28: 10, 39: 2, 42: 2, 48: 2, 57: 6, 79: 9, 98: 90, 190: 11, 204: 35, 243: 19, 264: 23, 291: 16, 309: 1, 311: 7, 320: 2, 324: 2, 328: 1, 333: 1, 335: 52, 389: 2, 392: 11, 409: 22, 434: 1, 436: 7, 444: 12, 458: 8}\n",
      "420436\n",
      "0\n",
      "1561286569188\n",
      "332\n",
      "(420940, 7.483104573857205)\n",
      "{28: 10, 42: 1, 57: 1, 59: 4, 79: 7, 98: 90, 191: 2, 194: 1, 196: 5, 204: 35, 243: 19, 265: 22, 291: 16, 309: 1, 311: 7, 321: 1, 325: 1, 328: 1, 333: 1, 336: 51, 390: 1, 392: 1, 394: 9, 409: 22, 434: 1, 436: 7, 444: 3, 448: 8, 458: 8}\n",
      "407281\n",
      "0\n",
      "1561286561260\n",
      "330\n",
      "(413012, 7.450621811883143)\n",
      "{28: 10, 42: 1, 59: 3, 79: 5, 98: 90, 194: 1, 198: 3, 204: 10, 215: 1, 218: 21, 243: 18, 266: 21, 291: 2, 294: 13, 311: 7, 325: 1, 328: 1, 333: 1, 336: 51, 390: 1, 394: 9, 409: 22, 434: 1, 436: 2, 439: 4, 444: 3, 448: 5, 454: 2, 458: 8}\n",
      "407281\n",
      "0\n",
      "1561286561260\n",
      "330\n",
      "(413012, 7.450621811883143)\n",
      "{28: 3, 32: 6, 79: 5, 98: 90, 198: 2, 204: 6, 213: 1, 215: 1, 218: 21, 245: 16, 266: 21, 291: 2, 294: 13, 311: 6, 325: 1, 328: 1, 333: 1, 336: 51, 390: 1, 395: 8, 410: 21, 436: 2, 439: 4, 444: 3, 448: 5, 454: 1, 458: 6, 465: 1}\n",
      "407281\n",
      "0\n",
      "1561286561260\n",
      "330\n",
      "(413012, 7.450621811883143)\n",
      "{32: 2, 79: 5, 98: 30, 129: 18, 148: 40, 204: 5, 213: 1, 215: 1, 218: 15, 234: 5, 245: 16, 266: 21, 292: 1, 295: 4, 300: 7, 311: 6, 325: 1, 328: 1, 333: 1, 336: 51, 390: 1, 395: 3, 399: 4, 410: 21, 436: 2, 439: 4, 444: 3, 448: 3, 452: 1, 454: 1, 458: 5, 465: 1}\n",
      "407281\n",
      "0\n",
      "1561286561260\n",
      "330\n",
      "(413012, 7.450621811883143)\n",
      "{79: 5, 98: 30, 129: 18, 148: 33, 182: 6, 204: 4, 213: 1, 215: 1, 218: 15, 234: 5, 245: 16, 268: 19, 296: 3, 301: 6, 311: 6, 333: 1, 336: 10, 347: 40, 390: 1, 399: 4, 410: 19, 436: 2, 439: 4, 444: 3, 448: 2, 452: 1, 458: 5, 465: 1}\n",
      "260132\n",
      "0\n",
      "1561286410822\n",
      "306\n",
      "(262574, 5.097533335724629)\n",
      "{98: 30, 132: 15, 150: 31, 183: 5, 206: 2, 213: 1, 215: 1, 218: 15, 234: 5, 245: 16, 271: 16, 296: 3, 301: 6, 311: 6, 333: 1, 336: 10, 347: 40, 399: 2, 402: 1, 410: 19, 436: 2, 439: 4, 444: 3, 448: 2, 452: 1, 458: 5, 465: 1}\n",
      "260132\n",
      "0\n",
      "1561286410822\n",
      "306\n",
      "(262574, 5.097533335724629)\n",
      "{98: 30, 132: 15, 151: 2, 155: 26, 183: 5, 213: 1, 215: 1, 219: 14, 234: 1, 237: 2, 245: 8, 254: 7, 271: 16, 296: 3, 302: 2, 305: 2, 312: 1, 314: 1, 316: 1, 333: 1, 336: 10, 347: 39, 410: 13, 424: 5, 436: 2, 439: 4, 444: 3, 448: 2, 452: 1, 458: 5, 465: 1}\n",
      "247291\n",
      "0\n",
      "1561286398406\n",
      "302\n",
      "(250158, 5.160702280603408)\n",
      "{102: 26, 132: 13, 155: 26, 183: 5, 213: 1, 215: 1, 219: 14, 237: 2, 245: 7, 255: 6, 271: 16, 296: 3, 303: 1, 306: 1, 314: 1, 316: 1, 333: 1, 336: 1, 338: 8, 347: 31, 379: 7, 410: 13, 424: 1, 426: 3, 436: 2, 439: 3, 444: 3, 448: 2, 452: 1, 458: 5, 465: 1}\n",
      "189125\n",
      "0\n",
      "1561286372249\n",
      "296\n",
      "(224001, 5.228367937748227)\n",
      "{102: 7, 111: 17, 132: 10, 155: 26, 183: 1, 185: 2, 213: 1, 215: 1, 219: 14, 237: 1, 245: 7, 255: 5, 272: 15, 296: 3, 303: 1, 306: 1, 314: 1, 316: 1, 333: 1, 336: 1, 338: 1, 340: 6, 347: 31, 383: 3, 410: 13, 424: 1, 426: 3, 439: 2, 444: 3, 448: 2, 458: 5, 465: 1}\n",
      "189125\n",
      "0\n",
      "1561286372249\n",
      "296\n",
      "(224001, 5.228367937748227)\n",
      "{104: 5, 111: 9, 122: 6, 132: 3, 137: 5, 155: 9, 170: 11, 183: 1, 186: 1, 213: 1, 215: 1, 219: 14, 245: 7, 256: 4, 272: 3, 276: 11, 296: 3, 306: 1, 314: 1, 316: 1, 333: 1, 336: 1, 338: 1, 341: 5, 347: 31, 383: 3, 410: 12, 424: 1, 426: 3, 439: 2, 444: 3, 448: 2, 458: 5, 465: 1}\n",
      "189125\n",
      "0\n",
      "1561286372249\n",
      "296\n",
      "(224001, 5.228367937748227)\n",
      "{107: 2, 111: 9, 122: 6, 133: 2, 137: 5, 155: 3, 159: 5, 172: 9, 183: 1, 220: 13, 245: 7, 257: 3, 272: 3, 276: 11, 296: 3, 306: 1, 316: 1, 333: 1, 336: 1, 338: 1, 341: 1, 343: 3, 348: 30, 383: 3, 412: 10, 424: 1, 426: 3, 439: 2, 444: 3, 448: 2, 459: 4, 465: 1}\n",
      "174504\n",
      "0\n",
      "1561286372249\n",
      "296\n",
      "(224001, 5.228367937748227)\n",
      "{111: 9, 124: 4, 133: 2, 138: 4, 155: 2, 159: 2, 172: 6, 179: 2, 183: 1, 221: 12, 245: 7, 257: 1, 259: 1, 273: 2, 277: 10, 296: 3, 306: 1, 316: 1, 336: 1, 338: 1, 341: 1, 343: 1, 345: 1, 348: 13, 362: 16, 383: 3, 412: 10, 424: 1, 428: 1, 439: 2, 444: 3, 448: 2, 459: 4, 465: 1}\n",
      "93380\n",
      "0\n",
      "1561286241910\n",
      "262\n",
      "(93662, 2.191481674842276)\n",
      "{111: 9, 125: 3, 134: 1, 172: 6, 179: 2, 183: 1, 221: 12, 245: 7, 257: 1, 274: 1, 277: 2, 280: 7, 296: 3, 306: 1, 316: 1, 336: 1, 341: 1, 343: 1, 345: 1, 348: 13, 363: 12, 383: 3, 412: 10, 424: 1, 428: 1, 439: 2, 444: 3, 448: 2, 459: 4, 465: 1}\n",
      "93380\n",
      "0\n",
      "1561286241910\n",
      "262\n",
      "(93662, 2.191481674842276)\n",
      "{111: 9, 125: 3, 134: 1, 173: 5, 179: 2, 183: 1, 222: 1, 225: 8, 245: 7, 257: 1, 277: 2, 281: 6, 296: 3, 306: 1, 316: 1, 336: 1, 343: 1, 348: 13, 363: 11, 412: 1, 414: 1, 416: 1, 419: 3, 424: 1, 439: 2, 444: 3, 448: 1, 460: 3, 465: 1}\n",
      "93380\n",
      "3\n",
      "1561286253505\n",
      "267\n",
      "(105257, 2.2892230698735627)\n",
      "{115: 5, 125: 3, 179: 2, 183: 1, 222: 1, 225: 8, 245: 7, 277: 2, 281: 6, 296: 3, 306: 1, 316: 1, 343: 1, 348: 13, 363: 11, 412: 1, 414: 1, 416: 1, 419: 2, 439: 1, 445: 2, 448: 1, 461: 1}\n",
      "93380\n",
      "3\n",
      "1561286253505\n",
      "267\n",
      "(105257, 2.2892230698735627)\n",
      "{115: 2, 179: 2, 183: 1, 225: 8, 245: 4, 250: 2, 282: 5, 296: 3, 306: 1, 316: 1, 343: 1, 348: 13, 363: 11, 419: 1, 445: 2}\n",
      "93380\n",
      "3\n",
      "1561286253505\n",
      "267\n",
      "(105257, 2.2892230698735627)\n",
      "{115: 2, 183: 1, 225: 3, 231: 2, 283: 2, 286: 1, 296: 3, 316: 1, 343: 1, 348: 13, 363: 2, 366: 4, 372: 1, 445: 2}\n",
      "93380\n",
      "3\n",
      "1561286253505\n",
      "267\n",
      "(105257, 2.2892230698735627)\n",
      "{225: 2, 283: 2, 348: 13, 366: 2, 369: 1}\n",
      "93380\n",
      "11\n",
      "1561286262967\n",
      "271\n",
      "(114719, 2.4156427361459545)\n"
     ]
    },
    {
     "ename": "AxisError",
     "evalue": "axis -1 is out of bounds for array of dimension 0",
     "output_type": "error",
     "traceback": [
      "\u001b[0;31m---------------------------------------------------------------------------\u001b[0m",
      "\u001b[0;31mAxisError\u001b[0m                                 Traceback (most recent call last)",
      "Cell \u001b[0;32mIn[336], line 6\u001b[0m\n\u001b[1;32m      3\u001b[0m data_unique_pos\u001b[38;5;241m=\u001b[39mdata_unique_pos\u001b[38;5;241m.\u001b[39mreset_index(drop\u001b[38;5;241m=\u001b[39m\u001b[38;5;28;01mTrue\u001b[39;00m)\n\u001b[1;32m      4\u001b[0m threshold\u001b[38;5;241m=\u001b[39mnp\u001b[38;5;241m.\u001b[39mquantile(data_unique_pos[\u001b[38;5;124m'\u001b[39m\u001b[38;5;124mdifference\u001b[39m\u001b[38;5;124m'\u001b[39m]\u001b[38;5;241m.\u001b[39mvalues,num)\n\u001b[0;32m----> 6\u001b[0m benigh_bursts\u001b[38;5;241m=\u001b[39m\u001b[43mmaxima_burst\u001b[49m\u001b[43m(\u001b[49m\u001b[43mdata_unique_pos\u001b[49m\u001b[43m,\u001b[49m\u001b[43mthreshold\u001b[49m\u001b[43m)\u001b[49m\n\u001b[1;32m      7\u001b[0m \u001b[38;5;28mprint\u001b[39m(benigh_bursts)\n\u001b[1;32m      8\u001b[0m \u001b[38;5;66;03m# print(data_unique_pos.shape)\u001b[39;00m\n",
      "Cell \u001b[0;32mIn[315], line 9\u001b[0m, in \u001b[0;36mmaxima_burst\u001b[0;34m(data, th)\u001b[0m\n\u001b[1;32m      7\u001b[0m \u001b[38;5;66;03m# print(diff_indexs)\u001b[39;00m\n\u001b[1;32m      8\u001b[0m diff_indexs\u001b[38;5;241m=\u001b[39mnp\u001b[38;5;241m.\u001b[39msqueeze(diff_indexs)\n\u001b[0;32m----> 9\u001b[0m sorted_index\u001b[38;5;241m=\u001b[39m\u001b[43mnp\u001b[49m\u001b[38;5;241;43m.\u001b[39;49m\u001b[43msort\u001b[49m\u001b[43m(\u001b[49m\u001b[43mdiff_indexs\u001b[49m\u001b[43m)\u001b[49m\n\u001b[1;32m     10\u001b[0m \u001b[38;5;66;03m# print(sorted_index)\u001b[39;00m\n\u001b[1;32m     11\u001b[0m burst\u001b[38;5;241m=\u001b[39m{}\n",
      "File \u001b[0;32m<__array_function__ internals>:180\u001b[0m, in \u001b[0;36msort\u001b[0;34m(*args, **kwargs)\u001b[0m\n",
      "File \u001b[0;32m~/miniforge3/envs/tf26/lib/python3.10/site-packages/numpy/core/fromnumeric.py:1004\u001b[0m, in \u001b[0;36msort\u001b[0;34m(a, axis, kind, order)\u001b[0m\n\u001b[1;32m   1002\u001b[0m \u001b[38;5;28;01melse\u001b[39;00m:\n\u001b[1;32m   1003\u001b[0m     a \u001b[38;5;241m=\u001b[39m asanyarray(a)\u001b[38;5;241m.\u001b[39mcopy(order\u001b[38;5;241m=\u001b[39m\u001b[38;5;124m\"\u001b[39m\u001b[38;5;124mK\u001b[39m\u001b[38;5;124m\"\u001b[39m)\n\u001b[0;32m-> 1004\u001b[0m \u001b[43ma\u001b[49m\u001b[38;5;241;43m.\u001b[39;49m\u001b[43msort\u001b[49m\u001b[43m(\u001b[49m\u001b[43maxis\u001b[49m\u001b[38;5;241;43m=\u001b[39;49m\u001b[43maxis\u001b[49m\u001b[43m,\u001b[49m\u001b[43m \u001b[49m\u001b[43mkind\u001b[49m\u001b[38;5;241;43m=\u001b[39;49m\u001b[43mkind\u001b[49m\u001b[43m,\u001b[49m\u001b[43m \u001b[49m\u001b[43morder\u001b[49m\u001b[38;5;241;43m=\u001b[39;49m\u001b[43morder\u001b[49m\u001b[43m)\u001b[49m\n\u001b[1;32m   1005\u001b[0m \u001b[38;5;28;01mreturn\u001b[39;00m a\n",
      "\u001b[0;31mAxisError\u001b[0m: axis -1 is out of bounds for array of dimension 0"
     ]
    }
   ],
   "source": [
    "for num in slot:\n",
    "    data_unique_pos=data_unique.drop_duplicates(subset=[\"GPS_lat\", \"GPS_long\"])\n",
    "    data_unique_pos=data_unique_pos.reset_index(drop=True)\n",
    "    threshold=np.quantile(data_unique_pos['difference'].values,num)\n",
    "\n",
    "    benigh_bursts=maxima_burst(data_unique_pos,threshold)\n",
    "    print(benigh_bursts)\n",
    "    # print(data_unique_pos.shape)\n",
    "    data_spoofed_pos=origin_data.drop_duplicates(subset=[\"GPS_lat\", \"GPS_long\"])\n",
    "    data_spoofed_pos=data_spoofed_pos.reset_index(drop=True)\n",
    "    bursts=maxima_burst(data_spoofed_pos,threshold)\n",
    "    # print(bursts)\n",
    "    tt=get_detected_time(data_unique_pos,benigh_bursts)\n",
    "    print(tt)\n",
    "    item=get_diff(data_spoofed_pos,tt,threshold)\n",
    "    print(item)\n",
    "    time_diff.append(item)"
   ]
  },
  {
   "cell_type": "code",
   "execution_count": 334,
   "metadata": {},
   "outputs": [
    {
     "data": {
      "image/png": "[encoded data removed]",
      "text/plain": [
       "<Figure size 640x480 with 2 Axes>"
      ]
     },
     "metadata": {},
     "output_type": "display_data"
    }
   ],
   "source": [
    "import matplotlib.pyplot as plt\n",
    "times=[i[0] for i in time_diff]\n",
    "diffs=[i[1] for i in time_diff]\n",
    "fig, ax1 = plt.subplots()\n",
    "\n",
    "# Plot y1 on the left y-axis\n",
    "ax1.plot(slot, times, 'g-')\n",
    "ax1.set_xlabel('X data')\n",
    "ax1.set_ylabel('Y1 data', color='g')\n",
    "ax1.tick_params(axis='y', labelcolor='g')\n",
    "\n",
    "# Create a second y-axis that shares the same x-axis\n",
    "ax2 = ax1.twinx()\n",
    "\n",
    "# Plot y2 on the right y-axis\n",
    "ax2.plot(slot, diffs, 'b-')\n",
    "ax2.set_ylabel('Y2 data', color='b')\n",
    "ax2.tick_params(axis='y', labelcolor='b')\n",
    "\n",
    "# Show the plot\n",
    "plt.show()\n"
   ]
  },
  {
   "cell_type": "code",
   "execution_count": null,
   "metadata": {},
   "outputs": [],
   "source": []
  }
 ],
 "metadata": {
  "kernelspec": {
   "display_name": "tf26",
   "language": "python",
   "name": "python3"
  },
  "language_info": {
   "codemirror_mode": {
    "name": "ipython",
    "version": 3
   },
   "file_extension": ".py",
   "mimetype": "text/x-python",
   "name": "python",
   "nbconvert_exporter": "python",
   "pygments_lexer": "ipython3",
   "version": "3.10.11"
  }
 },
 "nbformat": 4,
 "nbformat_minor": 2
}
